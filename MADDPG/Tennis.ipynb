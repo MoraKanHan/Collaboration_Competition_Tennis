{
 "cells": [
  {
   "cell_type": "markdown",
   "metadata": {},
   "source": [
    "# Collaboration and Competition\n",
    "\n",
    "---\n",
    "\n",
    "In this notebook, you will learn how to use the Unity ML-Agents environment for the third project of the [Deep Reinforcement Learning Nanodegree](https://www.udacity.com/course/deep-reinforcement-learning-nanodegree--nd893) program.\n",
    "\n",
    "### 1. Start the Environment\n",
    "\n",
    "We begin by importing the necessary packages.  If the code cell below returns an error, please revisit the project instructions to double-check that you have installed [Unity ML-Agents](https://github.com/Unity-Technologies/ml-agents/blob/master/docs/Installation.md) and [NumPy](http://www.numpy.org/)."
   ]
  },
  {
   "cell_type": "code",
   "execution_count": 1,
   "metadata": {},
   "outputs": [],
   "source": [
    "from unityagents import UnityEnvironment\n",
    "from collections import namedtuple, deque\n",
    "import numpy as np\n",
    "import torch\n",
    "import torch.nn as nn\n",
    "import torch.nn.functional as F\n",
    "import random\n",
    "import copy\n",
    "import torch.optim as optim"
   ]
  },
  {
   "cell_type": "markdown",
   "metadata": {},
   "source": [
    "Next, we will start the environment!  **_Before running the code cell below_**, change the `file_name` parameter to match the location of the Unity environment that you downloaded.\n",
    "\n",
    "- **Mac**: `\"path/to/Tennis.app\"`\n",
    "- **Windows** (x86): `\"path/to/Tennis_Windows_x86/Tennis.exe\"`\n",
    "- **Windows** (x86_64): `\"path/to/Tennis_Windows_x86_64/Tennis.exe\"`\n",
    "- **Linux** (x86): `\"path/to/Tennis_Linux/Tennis.x86\"`\n",
    "- **Linux** (x86_64): `\"path/to/Tennis_Linux/Tennis.x86_64\"`\n",
    "- **Linux** (x86, headless): `\"path/to/Tennis_Linux_NoVis/Tennis.x86\"`\n",
    "- **Linux** (x86_64, headless): `\"path/to/Tennis_Linux_NoVis/Tennis.x86_64\"`\n",
    "\n",
    "For instance, if you are using a Mac, then you downloaded `Tennis.app`.  If this file is in the same folder as the notebook, then the line below should appear as follows:\n",
    "```\n",
    "env = UnityEnvironment(file_name=\"Tennis.app\")\n",
    "```"
   ]
  },
  {
   "cell_type": "code",
   "execution_count": 2,
   "metadata": {},
   "outputs": [
    {
     "name": "stderr",
     "output_type": "stream",
     "text": [
      "INFO:unityagents:\n",
      "'Academy' started successfully!\n",
      "Unity Academy name: Academy\n",
      "        Number of Brains: 1\n",
      "        Number of External Brains : 1\n",
      "        Lesson number : 0\n",
      "        Reset Parameters :\n",
      "\t\t\n",
      "Unity brain name: TennisBrain\n",
      "        Number of Visual Observations (per agent): 0\n",
      "        Vector Observation space type: continuous\n",
      "        Vector Observation space size (per agent): 8\n",
      "        Number of stacked Vector Observation: 3\n",
      "        Vector Action space type: continuous\n",
      "        Vector Action space size (per agent): 2\n",
      "        Vector Action descriptions: , \n"
     ]
    },
    {
     "data": {
      "text/plain": [
       "{'TennisBrain': <unityagents.brain.BrainInfo at 0x7f0f0e7ab898>}"
      ]
     },
     "execution_count": 2,
     "metadata": {},
     "output_type": "execute_result"
    }
   ],
   "source": [
    "env = UnityEnvironment(file_name=\"/home/deeprl/deep-reinforcement-learning/p3_collab-compet/Tennis_Linux/Tennis.x86_64\", seed=1)\n",
    "env.reset()"
   ]
  },
  {
   "cell_type": "markdown",
   "metadata": {},
   "source": [
    "Environments contain **_brains_** which are responsible for deciding the actions of their associated agents. Here we check for the first brain available, and set it as the default brain we will be controlling from Python."
   ]
  },
  {
   "cell_type": "code",
   "execution_count": 3,
   "metadata": {},
   "outputs": [
    {
     "name": "stdout",
     "output_type": "stream",
     "text": [
      "Unity brain name: TennisBrain\n",
      "        Number of Visual Observations (per agent): 0\n",
      "        Vector Observation space type: continuous\n",
      "        Vector Observation space size (per agent): 8\n",
      "        Number of stacked Vector Observation: 3\n",
      "        Vector Action space type: continuous\n",
      "        Vector Action space size (per agent): 2\n",
      "        Vector Action descriptions: , \n"
     ]
    }
   ],
   "source": [
    "# get the default brain\n",
    "brain_name = env.brain_names[0]\n",
    "brain = env.brains[brain_name]\n",
    "print(brain)"
   ]
  },
  {
   "cell_type": "markdown",
   "metadata": {},
   "source": [
    "### 2. Examine the State and Action Spaces\n",
    "\n",
    "In this environment, two agents control rackets to bounce a ball over a net. If an agent hits the ball over the net, it receives a reward of +0.1.  If an agent lets a ball hit the ground or hits the ball out of bounds, it receives a reward of -0.01.  Thus, the goal of each agent is to keep the ball in play.\n",
    "\n",
    "The observation space consists of 8 variables corresponding to the position and velocity of the ball and racket. Two continuous actions are available, corresponding to movement toward (or away from) the net, and jumping. \n",
    "\n",
    "Run the code cell below to print some information about the environment."
   ]
  },
  {
   "cell_type": "code",
   "execution_count": 4,
   "metadata": {},
   "outputs": [
    {
     "name": "stdout",
     "output_type": "stream",
     "text": [
      "Number of agents: 2\n",
      "Size of each action: 2\n",
      "There are 2 agents. Each observes a state with length: 24\n",
      "The state for the first agent looks like: [ 0.          0.          0.          0.          0.          0.\n",
      "  0.          0.          0.          0.          0.          0.\n",
      "  0.          0.          0.          0.         -6.81114531 -1.5\n",
      " -0.          0.          6.00063038  5.99607611 -0.          0.        ]\n"
     ]
    }
   ],
   "source": [
    "# reset the environment\n",
    "env_info = env.reset(train_mode=True)[brain_name]\n",
    "\n",
    "# number of agents \n",
    "num_agents = len(env_info.agents)\n",
    "print('Number of agents:', num_agents)\n",
    "\n",
    "# size of each action\n",
    "action_size = brain.vector_action_space_size\n",
    "print('Size of each action:', action_size)\n",
    "\n",
    "# examine the state space \n",
    "states = env_info.vector_observations\n",
    "state_size = states.shape[1]\n",
    "print('There are {} agents. Each observes a state with length: {}'.format(states.shape[0], state_size))\n",
    "print('The state for the first agent looks like:', states[0])"
   ]
  },
  {
   "cell_type": "markdown",
   "metadata": {},
   "source": [
    "### 4. Create Critic and Actor models"
   ]
  },
  {
   "cell_type": "code",
   "execution_count": 5,
   "metadata": {},
   "outputs": [],
   "source": [
    "\n",
    "from collections import namedtuple, deque\n",
    "import numpy as np\n",
    "import torch\n",
    "import torch.nn as nn\n",
    "import torch.nn.functional as F\n",
    "import random\n",
    "import copy\n",
    "import torch.optim as optim\n",
    "\n",
    "def hidden_init(layer):\n",
    "    # source: The other layers were initialized from uniform distributions\n",
    "    # [− 1/sqrt(f) , 1/sqrt(f) ] where f is the fan-in of the layer\n",
    "    fan_in = layer.weight.data.size()[0]\n",
    "    lim = 1. / np.sqrt(fan_in)\n",
    "    return (-lim, lim)\n",
    "    \n",
    "class Actor(nn.Module):\n",
    "    \"\"\"Actor (Policy) Model.\"\"\"\n",
    "\n",
    "    def __init__(self, state_size, action_size, seed, fc1_units=256,\n",
    "                 fc2_units=128):\n",
    "        \"\"\"Initialize parameters and build model.\n",
    "        :param state_size: int. Dimension of each state\n",
    "        :param action_size: int. Dimension of each action\n",
    "        :param seed: int. Random seed\n",
    "        :param fc1_units: int. Number of nodes in first hidden layer\n",
    "        :param fc2_units: int. Number of nodes in second hidden layer\n",
    "        \"\"\"\n",
    "        super(Actor, self).__init__()\n",
    "        self.seed = torch.manual_seed(seed)\n",
    "        # source: The low-dimensional networks had 2 hidden layers\n",
    "        self.fc1 = nn.Linear(state_size, fc1_units)\n",
    "        self.fc2 = nn.Linear(fc1_units, fc2_units)\n",
    "        self.fc3 = nn.Linear(fc2_units, action_size)\n",
    "        self.reset_parameters()\n",
    "\n",
    "    def reset_parameters(self):\n",
    "        self.fc1.weight.data.uniform_(*hidden_init(self.fc1))\n",
    "        self.fc2.weight.data.uniform_(*hidden_init(self.fc1))\n",
    "        # source: The final layer weights and biases of the actor and were\n",
    "        # initialized from a uniform distribution [−3 × 10−3, 3 × 10−3]\n",
    "        self.fc3.weight.data.uniform_(-3e-3, 3e-3)\n",
    "\n",
    "    def forward(self, state):\n",
    "        \"\"\"\n",
    "        Build an actor (policy) network that maps states -> actions.\n",
    "        \"\"\"\n",
    "        # source: used the rectified non-linearity for all hidden layers\n",
    "        x = F.relu(self.fc1(state))\n",
    "        x = F.relu(self.fc2(x))\n",
    "        # source The final output layer of the actor was a tanh layer,\n",
    "        # to bound the actions\n",
    "        return torch.tanh(self.fc3(x))\n",
    "        \n",
    "        \n",
    "        \n",
    "class Critic(nn.Module):\n",
    "    \"\"\"Critic (Value) Model.\"\"\"\n",
    "\n",
    "    def __init__(self, state_size, action_size, nb_agents, seed,\n",
    "                 fcs1_units=256, fc2_units=128):\n",
    "        \"\"\"Initialize parameters and build model.\n",
    "        :param state_size: int. Dimension of each state\n",
    "        :param action_size: int. Dimension of each action\n",
    "        :param seed: int. Random seed\n",
    "        :param fcs1_units: int. Nb of nodes in the first hiddenlayer\n",
    "        :param fc2_units: int. Nb of nodes in the second hidden layer\n",
    "        \"\"\"\n",
    "        super(Critic, self).__init__()\n",
    "        self.seed = torch.manual_seed(seed)\n",
    "        self.fcs1 = nn.Linear((state_size+action_size)*nb_agents, fcs1_units)#*nb_agents\n",
    "        self.fc2 = nn.Linear(fcs1_units, fc2_units)\n",
    "        self.fc3 = nn.Linear(fc2_units, 1)\n",
    "        self.reset_parameters()\n",
    "\n",
    "    def reset_parameters(self):\n",
    "        self.fcs1.weight.data.uniform_(*hidden_init(self.fcs1))\n",
    "        self.fc2.weight.data.uniform_(*hidden_init(self.fc2))\n",
    "        # source: The final layer weights and biases of the critic were\n",
    "        # initialized from a uniform distribution [3 × 10−4, 3 × 10−4]\n",
    "        self.fc3.weight.data.uniform_(-3e-3, 3e-3)\n",
    "\n",
    "    def forward(self, state, action):\n",
    "        \"\"\"\n",
    "        Build a critic (value) network that maps\n",
    "        (state, action) pairs -> Q-values\n",
    "        :param state: tuple.\n",
    "        :param action: tuple.\n",
    "        \"\"\"\n",
    "        xs = torch.cat((state, action.float()), dim=1)\n",
    "        x = F.relu(self.fcs1(xs))\n",
    "        x = F.relu(self.fc2(x))\n",
    "        return self.fc3(x)"
   ]
  },
  {
   "cell_type": "markdown",
   "metadata": {},
   "source": [
    "### 5. Create Noise Generator"
   ]
  },
  {
   "cell_type": "code",
   "execution_count": 6,
   "metadata": {},
   "outputs": [],
   "source": [
    "class OUNoise:\n",
    "    \"\"\"Ornstein-Uhlenbeck process.\"\"\"\n",
    "\n",
    "    def __init__(self, size, seed, mu=0., theta=0.15, sigma=0.2):\n",
    "        \"\"\"Initialize parameters and noise process.\"\"\"\n",
    "        self.mu = mu * np.ones(size)\n",
    "        self.size = size\n",
    "        self.theta = theta\n",
    "        self.sigma = sigma\n",
    "        self.seed = random.seed(seed)\n",
    "        self.reset()\n",
    "\n",
    "    def reset(self):\n",
    "        \"\"\"Reset the internal state (= noise) to mean (mu).\"\"\"\n",
    "        self.state = copy.copy(self.mu)\n",
    "\n",
    "    def sample(self):\n",
    "        \"\"\"Update internal state and return it as a noise sample.\"\"\"\n",
    "        x = self.state\n",
    "        dx = self.theta * (self.mu - x)\n",
    "        # dx += self.sigma * np.random.rand(*self.size)  # Uniform disribution\n",
    "        dx += self.sigma * np.random.randn(self.size)  # normal distribution\n",
    "        # dx += self.sigma * np.array([random.random() for i in range(len(x))])\n",
    "        self.state = x + dx\n",
    "        return self.state"
   ]
  },
  {
   "cell_type": "markdown",
   "metadata": {},
   "source": [
    "### 6. Create Replay Buffer"
   ]
  },
  {
   "cell_type": "code",
   "execution_count": 7,
   "metadata": {},
   "outputs": [],
   "source": [
    "device = torch.device(\"cuda:0\" if torch.cuda.is_available() else \"cpu\")\n",
    "class ReplayBuffer:\n",
    "    \"\"\"Fixed-size buffer to store experience tuples.\"\"\"\n",
    "\n",
    "    def __init__(self, buffer_size, batch_size):\n",
    "        \"\"\"Initialize a ReplayBuffer object.\n",
    "        Params\n",
    "        ======\n",
    "            buffer_size (int): maximum size of buffer\n",
    "            batch_size (int): size of each training batch\n",
    "        \"\"\"\n",
    "        self.memory = deque(maxlen=buffer_size)  # internal memory (deque)\n",
    "        self.batch_size = batch_size\n",
    "        self.experience = namedtuple(\"Experience\", field_names=[\"states\", \"actions\", \"rewards\", \"next_states\", \"dones\"])\n",
    "        \n",
    "    def add(self, state, action, reward, next_state, done):\n",
    "        \"\"\"Add a new experience to memory.\"\"\"\n",
    "        e = self.experience(state, action, reward, next_state, done)\n",
    "        self.memory.append(e)\n",
    "    \n",
    "    def sample(self):\n",
    "        \"\"\"Randomly sample a batch of experiences from memory.\"\"\"\n",
    "        \n",
    "        experiences = random.sample(self.memory, k=self.batch_size)\n",
    "        \n",
    "        states_list = [torch.from_numpy(np.vstack([e.states[index] for e in experiences if e is not None])).float().to(device) for index in range(num_agents)]\n",
    "        actions_list = [torch.from_numpy(np.vstack([e.actions[index] for e in experiences if e is not None])).float().to(device) for index in range(num_agents)]\n",
    "        next_states_list = [torch.from_numpy(np.vstack([e.next_states[index] for e in experiences if e is not None])).float().to(device) for index in range(num_agents)]            \n",
    "        rewards = torch.from_numpy(np.vstack([e.rewards for e in experiences if e is not None])).float().to(device)        \n",
    "        dones = torch.from_numpy(np.vstack([e.dones for e in experiences if e is not None]).astype(np.uint8)).float().to(device)\n",
    "\n",
    "        return (states_list, actions_list, rewards, next_states_list, dones)\n",
    "\n",
    "    def __len__(self):\n",
    "        \"\"\"Return the current size of internal memory.\"\"\"\n",
    "        return len(self.memory)"
   ]
  },
  {
   "cell_type": "markdown",
   "metadata": {},
   "source": [
    "### 7. Create DDPG single agent"
   ]
  },
  {
   "cell_type": "code",
   "execution_count": 8,
   "metadata": {},
   "outputs": [],
   "source": [
    "BUFFER_SIZE = int(1e5)  # replay buffer size\n",
    "BATCH_SIZE = 250        # minibatch size\n",
    "GAMMA = 0.99            # discount factor\n",
    "TAU = 1e-3              # for soft update of target parameters\n",
    "LR_ACTOR = 0.0001        # learning rate of the actor\n",
    "LR_CRITIC = 0.001        # learning rate of the critic\n",
    "WEIGHT_DECAY = 0.0001        # L2 weight decay\n",
    "NOISE_DECAY = 0.99\n",
    "sharedBuffer = ReplayBuffer(BUFFER_SIZE, BATCH_SIZE)\n",
    "\n",
    "class DDPGAgent(object):\n",
    "    '''\n",
    "    Implementation of a DDPG agent that interacts with and learns from the\n",
    "    environment\n",
    "    '''\n",
    "\n",
    "    def __init__(self, state_size, action_size, rand_seed,nb_agents):\n",
    "        '''Initialize an MetaAgent object.\n",
    "        :param state_size: int. dimension of each state\n",
    "        :param action_size: int. dimension of each action\n",
    "        \n",
    "        :param rand_seed: int. random seed\n",
    "        \n",
    "        '''\n",
    "        self.state_size = state_size\n",
    "        self.action_size = action_size\n",
    "\n",
    "        # Actor Network (w/ Target Network)\n",
    "        self.actor_local = Actor(state_size, action_size, rand_seed).to(device)\n",
    "        self.actor_target = Actor(state_size, action_size, rand_seed).to(device)\n",
    "        self.actor_optimizer = optim.Adam(self.actor_local.parameters(),\n",
    "                                          lr=LR_ACTOR)\n",
    "\n",
    "        # Critic Network (w/ Target Network)\n",
    "        self.critic_local = Critic(state_size, action_size, nb_agents, rand_seed).to(device)\n",
    "        self.critic_target = Critic(state_size, action_size, nb_agents, rand_seed).to(device)\n",
    "        # NOTE: the decay corresponds to L2 regularization\n",
    "        self.critic_optimizer = optim.Adam(self.critic_local.parameters(), lr=LR_CRITIC)  # , weight_decay=WEIGHT_DECAY)\n",
    "\n",
    "        # Noise process\n",
    "        self.noise = OUNoise(action_size, rand_seed)\n",
    "        \n",
    "        \n",
    "   \n",
    "    \n",
    "    def step(self):\n",
    "        if len(sharedBuffer) > BATCH_SIZE:\n",
    "            experiences = sharedBuffer.sample()\n",
    "            self.learn(experiences, GAMMA)\n",
    "\n",
    "    def act(self, states, add_noise=True):\n",
    "        '''Returns actions for given states as per current policy.\n",
    "        :param states: array_like. current states\n",
    "        :param add_noise: Boolean. If should add noise to the action\n",
    "        '''\n",
    "        states = torch.from_numpy(states).float().to(device)\n",
    "        self.actor_local.eval()\n",
    "        with torch.no_grad():\n",
    "            actions = self.actor_local(states).cpu().data.numpy()\n",
    "        self.actor_local.train()\n",
    "        # source: Select action at = μ(st|θμ) + Nt according to the current\n",
    "        # policy and exploration noise\n",
    "        if add_noise:\n",
    "            actions += self.noise.sample()\n",
    "            \n",
    "        return np.clip(actions, -1, 1)\n",
    "\n",
    "    def reset(self):\n",
    "        self.noise.reset()\n",
    "\n",
    "    def learn(self, experiences, gamma):\n",
    "        '''\n",
    "        Update policy and value params using given batch of experience tuples.\n",
    "        Q_targets = r + γ * critic_target(next_state, actor_target(next_state))\n",
    "        where:\n",
    "            actor_target(state) -> action\n",
    "            critic_target(state, action) -> Q-value\n",
    "        :param experiences: Tuple[torch.Tensor]. tuple of (s, a, r, s', done)\n",
    "        :param gamma: float. discount factor\n",
    "        '''\n",
    "        states_list, actions_list, rewards, next_states_list, dones = experiences\n",
    "                    \n",
    "        next_states_tensor = torch.cat(next_states_list, dim=1).to(device)\n",
    "        states_tensor = torch.cat(states_list, dim=1).to(device)\n",
    "        actions_tensor = torch.cat(actions_list, dim=1).to(device)\n",
    "        \n",
    "        # ---------------------------- update critic ---------------------------- #\n",
    "        # Get predicted next-state actions and Q values from target models\n",
    "        next_actions = [self.actor_target(states) for states in states_list]        \n",
    "        next_actions_tensor = torch.cat(next_actions, dim=1).to(device)        \n",
    "        Q_targets_next = self.critic_target(next_states_tensor, next_actions_tensor)        \n",
    "        # Compute Q targets for current states (y_i)\n",
    "        Q_targets = rewards + (gamma * Q_targets_next * (1 - dones))        \n",
    "        # Compute critic loss\n",
    "        Q_expected = self.critic_local(states_tensor, actions_tensor)\n",
    "        critic_loss = F.mse_loss(Q_expected, Q_targets)        \n",
    "        # Minimize the loss\n",
    "        self.critic_optimizer.zero_grad()\n",
    "        critic_loss.backward()\n",
    "        #torch.nn.utils.clip_grad_norm_(self.critic_local.parameters(), 1)\n",
    "        self.critic_optimizer.step()\n",
    "\n",
    "        # ---------------------------- update actor ---------------------------- #\n",
    "        # Compute actor loss\n",
    "        # take the current states and predict actions\n",
    "        actions_pred = [self.actor_local(states) for states in states_list]        \n",
    "        actions_pred_tensor = torch.cat(actions_pred, dim=1).to(device)\n",
    "        # -1 * (maximize) Q value for the current prediction\n",
    "        actor_loss = -self.critic_local(states_tensor, actions_pred_tensor).mean()        \n",
    "        # Minimize the loss\n",
    "        self.actor_optimizer.zero_grad()\n",
    "        actor_loss.backward()        \n",
    "        #torch.nn.utils.clip_grad_norm_(self.actor_local.parameters(), 1)\n",
    "        self.actor_optimizer.step()\n",
    "\n",
    "        # ----------------------- update target networks ----------------------- #\n",
    "        self.soft_update(self.critic_local, self.critic_target, TAU)\n",
    "        self.soft_update(self.actor_local, self.actor_target, TAU)\n",
    "\n",
    "    def soft_update(self, local_model, target_model, tau):\n",
    "        \"\"\"Soft update model parameters.\n",
    "        θ_target = τ*θ_local + (1 - τ)*θ_target\n",
    "\n",
    "        Params\n",
    "        ======\n",
    "            local_model: PyTorch model (weights will be copied from)\n",
    "            target_model: PyTorch model (weights will be copied to)\n",
    "            tau (float): interpolation parameter \n",
    "        \"\"\"\n",
    "        for target_param, local_param in zip(target_model.parameters(), local_model.parameters()):\n",
    "            target_param.data.copy_(tau*local_param.data + (1.0-tau)*target_param.data)"
   ]
  },
  {
   "cell_type": "markdown",
   "metadata": {},
   "source": [
    "### 8. Create Multi-agent DDPG"
   ]
  },
  {
   "cell_type": "code",
   "execution_count": 9,
   "metadata": {},
   "outputs": [],
   "source": [
    "class MADDPG(object):\n",
    "    '''\n",
    "    Implementation of a MADDPG agent that interacts with and learns from the\n",
    "    environment\n",
    "    '''\n",
    "\n",
    "    def __init__(self, state_size, action_size, nb_agents, random_seed):\n",
    "        '''Initialize an MultiAgent object.\n",
    "        :param state_size: int. dimension of each state\n",
    "        :param action_size: int. dimension of each action\n",
    "        :param nb_agents: int. number of agents to use\n",
    "        :param rand_seed: int. random seed\n",
    "        '''\n",
    "        self.nb_agents = nb_agents\n",
    "        self.action_size = action_size\n",
    "        self.agents = [DDPGAgent(state_size,action_size,random_seed,nb_agents) for x in range(nb_agents)]# creating agents\n",
    "\n",
    "    def step(self, states, actions, rewards, next_states, dones):\n",
    "        sharedBuffer.add(states, actions, rewards, next_states, dones)\n",
    "        for agent in self.agents:\n",
    "            agent.step()\n",
    "\n",
    "    def act(self, states, add_noise=True):\n",
    "        actions = np.zeros([num_agents, action_size])\n",
    "        for index, agent in enumerate(self.agents):\n",
    "            actions[index, :] = agent.act(states[index], add_noise)\n",
    "        return actions\n",
    "\n",
    "    def reset(self):\n",
    "        for agent in self.agents:\n",
    "            agent.reset()\n",
    "\n",
    "    def __len__(self):\n",
    "        return self.nb_agents\n",
    "\n",
    "    def __getitem__(self, key):\n",
    "        return self.agents[key]\n",
    "    \n",
    "    def save_weights(self):\n",
    "        for index, agent in enumerate(self.agents):\n",
    "            torch.save(agent.actor_local.state_dict(), 'agent{}_checkpoint_actor.pth'.format(index+1))\n",
    "            torch.save(agent.critic_local.state_dict(), 'agent{}_checkpoint_critic.pth'.format(index+1))"
   ]
  },
  {
   "cell_type": "markdown",
   "metadata": {},
   "source": [
    "### 9. Train Agent"
   ]
  },
  {
   "cell_type": "code",
   "execution_count": 11,
   "metadata": {},
   "outputs": [
    {
     "name": "stdout",
     "output_type": "stream",
     "text": [
      "Episode 100\tAverage Score: 0.007 \t Max Score: 0.100\n",
      "Episode 200\tAverage Score: 0.003 \t Max Score: 0.100\n",
      "Episode 300\tAverage Score: 0.000 \t Max Score: 0.000\n",
      "Episode 400\tAverage Score: 0.007 \t Max Score: 0.100\n",
      "Episode 500\tAverage Score: 0.012 \t Max Score: 0.190\n",
      "Episode 600\tAverage Score: 0.013 \t Max Score: 0.100\n",
      "Episode 700\tAverage Score: 0.011 \t Max Score: 0.100\n",
      "Episode 800\tAverage Score: 0.001 \t Max Score: 0.090\n",
      "Episode 900\tAverage Score: 0.008 \t Max Score: 0.100\n",
      "Episode 1000\tAverage Score: 0.049 \t Max Score: 0.100\n",
      "Episode 1100\tAverage Score: 0.055 \t Max Score: 0.100\n",
      "Episode 1200\tAverage Score: 0.077 \t Max Score: 0.200\n",
      "Episode 1300\tAverage Score: 0.088 \t Max Score: 0.200\n",
      "Episode 1400\tAverage Score: 0.106 \t Max Score: 0.300\n",
      "Episode 1500\tAverage Score: 0.103 \t Max Score: 0.400\n",
      "Episode 1600\tAverage Score: 0.128 \t Max Score: 0.400\n",
      "Episode 1700\tAverage Score: 0.168 \t Max Score: 0.900\n",
      "Episode 1800\tAverage Score: 0.258 \t Max Score: 1.400\n",
      "Episode 1900\tAverage Score: 0.323 \t Max Score: 1.400\n",
      "Episode 2000\tAverage Score: 0.350 \t Max Score: 2.500\n",
      "Episode 2100\tAverage Score: 0.405 \t Max Score: 2.100\n",
      "Episode 2200\tAverage Score: 0.424 \t Max Score: 2.090\n",
      "Episode 2229\tAverage Score: 0.502 \t Max Score: 2.600\n",
      "Environment solved in 2229 Episodes \tAverage Score: 0.502 \n"
     ]
    }
   ],
   "source": [
    "agent = MADDPG(state_size=state_size, action_size=action_size,nb_agents = num_agents, random_seed=0)\n",
    "\n",
    "def maddpg(n_episodes=5000, max_t=1000, print_every=100):\n",
    "    scores_window = deque(maxlen=print_every)\n",
    "    scores = []\n",
    "    scores_avg = []\n",
    "    scores_std = []\n",
    "    for i_episode in range(1, n_episodes+1):\n",
    "        env_info = env.reset(train_mode=True)[brain_name] #reset the environment with every episode\n",
    "        states = env_info.vector_observations \n",
    "        agent.reset()\n",
    "        score = np.zeros(len(agent))\n",
    "        for t in range(max_t):\n",
    "            actions = agent.act(states)\n",
    "            env_info = env.step(actions)[brain_name] #Taking one step\n",
    "            next_states = env_info.vector_observations   \n",
    "            rewards = env_info.rewards\n",
    "            dones = env_info.local_done\n",
    "            agent.step(states, actions, rewards, next_states, dones)\n",
    "            states = next_states\n",
    "            score += rewards\n",
    "            if np.any(dones):\n",
    "                break \n",
    "        scores.append(np.max(score))\n",
    "        scores_window.append(np.max(score))\n",
    "        scores_avg.append(np.mean(scores_window))\n",
    "        scores_std.append(np.std(scores_window))\n",
    "        print('\\rEpisode {}\\tAverage Score: {:.3f} \\t Max Score: {:.3f}'.format(i_episode, np.mean(scores_window),np.max(scores_window)), end=\"\")\n",
    "        \"\"\" for i in range(len(agent)):\n",
    "            str_actor = ('checkpoint_actor_maddpg_%i.pth')%(i)\n",
    "            str_critic = ('checkpoint_critic_maddpg_%i.pth')%(i)\n",
    "            torch.save(agent[i].actor_local.state_dict(), str_actor)\n",
    "            torch.save(agent[i].critic_local.state_dict(), str_critic)\n",
    "        \"\"\"    \n",
    "        if i_episode % print_every == 0:\n",
    "            print('\\rEpisode {}\\tAverage Score: {:.3f} '.format(i_episode, np.mean(scores_window)))\n",
    "            \n",
    "        if np.mean(scores_window)>=0.5:\n",
    "            agent.save_weights()\n",
    "            print('\\nEnvironment solved in {:d} Episodes \\tAverage Score: {:.3f} '.format(i_episode, np.mean(scores_window)))\n",
    "            break\n",
    "            \n",
    "    return scores\n",
    "\n",
    "scores = maddpg()"
   ]
  },
  {
   "cell_type": "markdown",
   "metadata": {},
   "source": [
    "### 10. Plot Results"
   ]
  },
  {
   "cell_type": "code",
   "execution_count": 17,
   "metadata": {},
   "outputs": [
    {
     "data": {
      "image/png": "[encoded data removed]",
      "text/plain": [
       "<Figure size 432x288 with 1 Axes>"
      ]
     },
     "metadata": {
      "needs_background": "light"
     },
     "output_type": "display_data"
    }
   ],
   "source": [
    "import matplotlib.pyplot as plt\n",
    "fig = plt.figure()\n",
    "ax = fig.add_subplot(111)\n",
    "plt.plot(np.arange(1, len(scores)+1), scores)\n",
    "plt.ylabel('Score')\n",
    "plt.xlabel('Episode #')\n",
    "plt.show()\n",
    "\n"
   ]
  },
  {
   "cell_type": "markdown",
   "metadata": {},
   "source": [
    "### 11. Watch smart agents"
   ]
  },
  {
   "cell_type": "code",
   "execution_count": 12,
   "metadata": {},
   "outputs": [
    {
     "name": "stdout",
     "output_type": "stream",
     "text": [
      "Average Score: 2.3800000362098217\n"
     ]
    }
   ],
   "source": [
    "env_info = env.reset(train_mode=False)[brain_name]\n",
    "agent = MADDPG(state_size=state_size, action_size=action_size,nb_agents = num_agents, random_seed=0)\n",
    "for i in range(len(agent)):\n",
    "    agent[i].actor_local.load_state_dict(torch.load('agent{}_checkpoint_actor.pth'.format(i+1)))\n",
    "    agent[i].critic_local.load_state_dict(torch.load('agent{}_checkpoint_critic.pth'.format(i+1)))\n",
    "\n",
    "states = env_info.vector_observations            # get the current state\n",
    "scores = np.zeros(len(agent))                                          # initialize the score\n",
    "for i in range(1000):\n",
    "    actions = agent.act(states)                # select an action\n",
    "    env_info = env.step(actions)[brain_name]        # send the action to the environment\n",
    "    next_states = env_info.vector_observations   # get the next state\n",
    "    rewards = env_info.rewards                  # get the reward\n",
    "    dones = env_info.local_done                 # see if episode has finished\n",
    "    scores += rewards                                # update the score\n",
    "    states = next_states                             # roll over the state to next time step\n",
    "    \n",
    "    \n",
    "print(\"Average Score: {}\".format(np.mean(scores))) "
   ]
  },
  {
   "cell_type": "code",
   "execution_count": null,
   "metadata": {},
   "outputs": [],
   "source": []
  }
 ],
 "metadata": {
  "kernelspec": {
   "display_name": "drlnd",
   "language": "python",
   "name": "drlnd"
  },
  "language_info": {
   "codemirror_mode": {
    "name": "ipython",
    "version": 3
   },
   "file_extension": ".py",
   "mimetype": "text/x-python",
   "name": "python",
   "nbconvert_exporter": "python",
   "pygments_lexer": "ipython3",
   "version": "3.6.13"
  }
 },
 "nbformat": 4,
 "nbformat_minor": 2
}
